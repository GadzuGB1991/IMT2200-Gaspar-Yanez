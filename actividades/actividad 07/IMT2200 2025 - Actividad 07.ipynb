{
 "cells": [
  {
   "cell_type": "markdown",
   "id": "c83a39a2",
   "metadata": {},
   "source": [
    "# <img style=\"float: left; padding-right: 20px; width: 200px\" src=\"https://raw.githubusercontent.com/raxlab/imt2200-data/main/media/logo.jpg\">  IMT 2200 - Introducción a Ciencia de Datos\n",
    "**Pontificia Universidad Católica de Chile**<br>\n",
    "**Instituto de Ingeniería Matemática y Computacional**<br>\n",
    "**Semestre 2025-S2**<br>\n",
    "**Profesor:** Rodrigo A. Carrasco <br>"
   ]
  },
  {
   "cell_type": "markdown",
   "id": "a6311079",
   "metadata": {},
   "source": [
    "# <h1><center>Actividad 7 - Actividad de Integración</center></h1>\n",
    "\n",
    "Esta actividad busca que los estudiantes conecten el trabajo de agrupación y de resumen, junto con calcular estadísticas de datos así como también realizar visualización básica."
   ]
  },
  {
   "cell_type": "markdown",
   "id": "a2c54596",
   "metadata": {},
   "source": [
    "## Instrucciones\n",
    "\n",
    "Este Notebook contiene las instrucciones a realizar para la actividad. \n",
    "\n",
    "<b>Al finalizarla, deben subir el Notebook y los archivos generados en un único archivo .zip, al módulo de la Actividad 07 en Canvas.</b>\n",
    "\n",
    "Para esta actividad trabajarán con el dataset [palmerpenguins](https://github.com/allisonhorst/palmerpenguins/blob/main/README.md), un set de datos con mediciones de 3 especies de pingüinos que habitan en la Antártica y sus islas. Estos datos incluyen peso, tamaño de las aletas y mediciones del \"culmen\" para hembras y machos de las 3 especies. (Abajo pueden ver una imagen explicativa sobre estas mediciones.)\n",
    "\n",
    "<img src=\"culmen_depth.png\" alt=\"bill_size\" width=\"700\"/>"
   ]
  },
  {
   "cell_type": "markdown",
   "id": "f66e4487",
   "metadata": {},
   "source": [
    "## Rúbrica\n",
    "\n",
    "- Si han logrado todo: 7.0\n",
    "- Si han logrado sólo los puntos 1 y 2: 5.0\n",
    "- Menos que eso: 1.0"
   ]
  },
  {
   "cell_type": "markdown",
   "id": "538e24c8",
   "metadata": {},
   "source": [
    "## 1. Base de datos unificada\n",
    "\n",
    "### 1.1 Lectura de datos\n",
    "\n",
    "En la carpeta `penguins/` podrá encontrar tres archivos `.csv`, cada uno con registros de las mediciones de una especie de pingüino antártico.\n",
    "Primero, lea cada uno de estos archivos como un DataFrame separado.\n",
    "\n",
    "### 1.2  Base de datos unificada\n",
    "\n",
    "Ahora junte los tres DataFrames en un nuevo DataFrame llamado `penguins`, agregando una nueva columna `species` que identifique el nombre de la especie de cada pingüino (Adelie, Chinstrap o Gentoo).\n",
    "\n",
    "### 1.3 Inspección y limpieza\n",
    "\n",
    "Inspeccione el DataFrame `penguins` y sus columnas. ¿Están correctamente asignados los tipos de cada columna? ¿Alguna podría ser categórica? ¿Existen valores nulos o inválidos? Aplique las transformaciones y limpiezas que considere necesarisas al DataFrame, explicando en los comentarios (o nuevas celdas) por qué hizo dichas transformaciones."
   ]
  },
  {
   "cell_type": "code",
   "execution_count": 26,
   "id": "73d80735",
   "metadata": {},
   "outputs": [],
   "source": [
    "import pandas as pd\n",
    "import matplotlib.pyplot as plt\n"
   ]
  },
  {
   "cell_type": "code",
   "execution_count": 19,
   "id": "19c387a7",
   "metadata": {},
   "outputs": [
    {
     "data": {
      "text/html": [
       "<div>\n",
       "<style scoped>\n",
       "    .dataframe tbody tr th:only-of-type {\n",
       "        vertical-align: middle;\n",
       "    }\n",
       "\n",
       "    .dataframe tbody tr th {\n",
       "        vertical-align: top;\n",
       "    }\n",
       "\n",
       "    .dataframe thead th {\n",
       "        text-align: right;\n",
       "    }\n",
       "</style>\n",
       "<table border=\"1\" class=\"dataframe\">\n",
       "  <thead>\n",
       "    <tr style=\"text-align: right;\">\n",
       "      <th></th>\n",
       "      <th>island</th>\n",
       "      <th>culmen_length_mm</th>\n",
       "      <th>culmen_depth_mm</th>\n",
       "      <th>flipper_length_mm</th>\n",
       "      <th>body_mass_g</th>\n",
       "      <th>sex</th>\n",
       "      <th>species</th>\n",
       "    </tr>\n",
       "  </thead>\n",
       "  <tbody>\n",
       "    <tr>\n",
       "      <th>0</th>\n",
       "      <td>Torgersen</td>\n",
       "      <td>39.1</td>\n",
       "      <td>18.7</td>\n",
       "      <td>181.0</td>\n",
       "      <td>3750.0</td>\n",
       "      <td>MALE</td>\n",
       "      <td>Adelie</td>\n",
       "    </tr>\n",
       "    <tr>\n",
       "      <th>1</th>\n",
       "      <td>Torgersen</td>\n",
       "      <td>39.5</td>\n",
       "      <td>17.4</td>\n",
       "      <td>186.0</td>\n",
       "      <td>3800.0</td>\n",
       "      <td>FEMALE</td>\n",
       "      <td>Adelie</td>\n",
       "    </tr>\n",
       "    <tr>\n",
       "      <th>2</th>\n",
       "      <td>Torgersen</td>\n",
       "      <td>40.3</td>\n",
       "      <td>18.0</td>\n",
       "      <td>195.0</td>\n",
       "      <td>3250.0</td>\n",
       "      <td>FEMALE</td>\n",
       "      <td>Adelie</td>\n",
       "    </tr>\n",
       "    <tr>\n",
       "      <th>4</th>\n",
       "      <td>Torgersen</td>\n",
       "      <td>36.7</td>\n",
       "      <td>19.3</td>\n",
       "      <td>193.0</td>\n",
       "      <td>3450.0</td>\n",
       "      <td>FEMALE</td>\n",
       "      <td>Adelie</td>\n",
       "    </tr>\n",
       "    <tr>\n",
       "      <th>5</th>\n",
       "      <td>Torgersen</td>\n",
       "      <td>39.3</td>\n",
       "      <td>20.6</td>\n",
       "      <td>190.0</td>\n",
       "      <td>3650.0</td>\n",
       "      <td>MALE</td>\n",
       "      <td>Adelie</td>\n",
       "    </tr>\n",
       "  </tbody>\n",
       "</table>\n",
       "</div>"
      ],
      "text/plain": [
       "      island  culmen_length_mm  culmen_depth_mm  flipper_length_mm  \\\n",
       "0  Torgersen              39.1             18.7              181.0   \n",
       "1  Torgersen              39.5             17.4              186.0   \n",
       "2  Torgersen              40.3             18.0              195.0   \n",
       "4  Torgersen              36.7             19.3              193.0   \n",
       "5  Torgersen              39.3             20.6              190.0   \n",
       "\n",
       "   body_mass_g     sex species  \n",
       "0       3750.0    MALE  Adelie  \n",
       "1       3800.0  FEMALE  Adelie  \n",
       "2       3250.0  FEMALE  Adelie  \n",
       "4       3450.0  FEMALE  Adelie  \n",
       "5       3650.0    MALE  Adelie  "
      ]
     },
     "execution_count": 19,
     "metadata": {},
     "output_type": "execute_result"
    }
   ],
   "source": [
    "adelie = pd.read_csv(\"adelie.csv\")\n",
    "chinstrap = pd.read_csv(\"chinstrap.csv\")\n",
    "gentoo = pd.read_csv(\"gentoo.csv\")\n",
    "adelie[\"species\"] = \"Adelie\"\n",
    "chinstrap[\"species\"] = \"Chinstrap\"\n",
    "gentoo[\"species\"] = \"Gentoo\"\n",
    "penguins = pd.concat([adelie, chinstrap, gentoo], ignore_index=True)\n",
    "penguins = penguins.dropna()\n",
    "penguins = penguins[penguins[\"sex\"] != \".\"]\n",
    "penguins.head()"
   ]
  },
  {
   "cell_type": "markdown",
   "id": "c5293608",
   "metadata": {},
   "source": [
    "si existian valores nulos y se eliminaron los valores NaN ya que parecian vacios en las filas, y tambien existia un \".\" como valor en sex el cual no hacia sentido asi que se elimino del dataframe.\n",
    "y todas las columnas parecen tener un correcto tipo de categorizacion"
   ]
  },
  {
   "cell_type": "markdown",
   "id": "3f6567b7",
   "metadata": {},
   "source": [
    "## 2. Revisión de base de datos\n",
    "\n",
    "### 2.1 Análisis de base completa\n",
    "\n",
    "Responda las siguientes preguntas a partir del DataFrame `penguins`:\n",
    "* a. ¿Cuántas filas tiene la base de datos conjunta?\n",
    "* b. ¿Cuáles son los valores mínimo y máximo de todas las columnas con datos numéricos?\n",
    "* c. ¿Cuántos machos y cuántas hembras hay en el set de datos, respectivamente?\n",
    "\n",
    "### 2.2 Análisis agrupados\n",
    "\n",
    "Responda las siguientes preguntas:\n",
    "\n",
    "* a. En promedio, ¿cuál es la especie más pesada de pingüino?\n",
    "* b. Para cada especie, ¿hay alguna diferencia significativa entre hembras y machos en relación al peso promedio?\n",
    "* c. ¿En qué especie varía menos el tamaño de aleta?"
   ]
  },
  {
   "cell_type": "code",
   "execution_count": 20,
   "id": "64e54358",
   "metadata": {},
   "outputs": [
    {
     "name": "stdout",
     "output_type": "stream",
     "text": [
      "<class 'pandas.core.frame.DataFrame'>\n",
      "Index: 333 entries, 0 to 343\n",
      "Data columns (total 7 columns):\n",
      " #   Column             Non-Null Count  Dtype  \n",
      "---  ------             --------------  -----  \n",
      " 0   island             333 non-null    object \n",
      " 1   culmen_length_mm   333 non-null    float64\n",
      " 2   culmen_depth_mm    333 non-null    float64\n",
      " 3   flipper_length_mm  333 non-null    float64\n",
      " 4   body_mass_g        333 non-null    float64\n",
      " 5   sex                333 non-null    object \n",
      " 6   species            333 non-null    object \n",
      "dtypes: float64(4), object(3)\n",
      "memory usage: 20.8+ KB\n"
     ]
    }
   ],
   "source": [
    "penguins.info()"
   ]
  },
  {
   "cell_type": "code",
   "execution_count": 21,
   "id": "5b5c7fa7",
   "metadata": {},
   "outputs": [
    {
     "name": "stdout",
     "output_type": "stream",
     "text": [
      "       culmen_length_mm  culmen_depth_mm  flipper_length_mm  body_mass_g\n",
      "count        333.000000       333.000000         333.000000   333.000000\n",
      "mean          43.992793        17.164865         200.966967  4207.057057\n",
      "std            5.468668         1.969235          14.015765   805.215802\n",
      "min           32.100000        13.100000         172.000000  2700.000000\n",
      "25%           39.500000        15.600000         190.000000  3550.000000\n",
      "50%           44.500000        17.300000         197.000000  4050.000000\n",
      "75%           48.600000        18.700000         213.000000  4775.000000\n",
      "max           59.600000        21.500000         231.000000  6300.000000\n"
     ]
    }
   ],
   "source": [
    "print(penguins.describe())"
   ]
  },
  {
   "cell_type": "code",
   "execution_count": 22,
   "id": "8df38e83",
   "metadata": {},
   "outputs": [
    {
     "name": "stdout",
     "output_type": "stream",
     "text": [
      "sex\n",
      "MALE      168\n",
      "FEMALE    165\n",
      "Name: count, dtype: int64\n"
     ]
    }
   ],
   "source": [
    "print(penguins[\"sex\"].value_counts())"
   ]
  },
  {
   "cell_type": "markdown",
   "id": "9cf71f4f",
   "metadata": {},
   "source": [
    "2.1\n",
    "A) la base de datos tiene 334 filas\n",
    "\n",
    "B) el maximo para el largo del culmen es 59.6mm y el minimo es 32.1mm,\n",
    "  el maximo de profudidad del culme es 21.5mm y el minimo es 13.1mm,\n",
    "  el maximo de largo de flipper es 231mm y el minimo es 172mm\n",
    "  el maximo de body_mass es 6200g y el minimo es 2700g\n",
    "\n",
    "C) Hay 168 machos y 165 hembras en el dataframe\n",
    "\n",
    "\n"
   ]
  },
  {
   "cell_type": "code",
   "execution_count": 24,
   "id": "2e52a804",
   "metadata": {},
   "outputs": [
    {
     "name": "stdout",
     "output_type": "stream",
     "text": [
      "species\n",
      "Adelie       3706.164384\n",
      "Chinstrap    3733.088235\n",
      "Gentoo       5092.436975\n",
      "Name: body_mass_g, dtype: float64\n"
     ]
    }
   ],
   "source": [
    "print(penguins.groupby(\"species\")[\"body_mass_g\"].mean())"
   ]
  },
  {
   "cell_type": "code",
   "execution_count": 25,
   "id": "11f56984",
   "metadata": {},
   "outputs": [
    {
     "name": "stdout",
     "output_type": "stream",
     "text": [
      "species    sex   \n",
      "Adelie     FEMALE    3368.835616\n",
      "           MALE      4043.493151\n",
      "Chinstrap  FEMALE    3527.205882\n",
      "           MALE      3938.970588\n",
      "Gentoo     FEMALE    4679.741379\n",
      "           MALE      5484.836066\n",
      "Name: body_mass_g, dtype: float64\n"
     ]
    }
   ],
   "source": [
    "print(penguins.groupby([\"species\", \"sex\"])[\"body_mass_g\"].mean())"
   ]
  },
  {
   "cell_type": "code",
   "execution_count": 18,
   "id": "e151ced1",
   "metadata": {},
   "outputs": [
    {
     "name": "stdout",
     "output_type": "stream",
     "text": [
      "species\n",
      "Adelie       42.534199\n",
      "Chinstrap    50.863916\n",
      "Gentoo       43.003922\n",
      "Name: flipper_length_mm, dtype: float64\n"
     ]
    }
   ],
   "source": [
    "print(penguins.groupby(\"species\")[\"flipper_length_mm\"].var())"
   ]
  },
  {
   "cell_type": "markdown",
   "id": "4dde05d7",
   "metadata": {},
   "source": [
    "2.2\n",
    "A) la especie mas pesada en promedio es \"Gentoo\"\n",
    "\n",
    "B) se aprecia una diferencia de casi 700g entre el macho y la hembra (siendo el macho el que tiene esa ventaja) en todas las especies.\n",
    "\n",
    "C) en la especie \"Adelie\" se encunetra una enor varianza en la aleta "
   ]
  },
  {
   "cell_type": "markdown",
   "id": "fcafb08f",
   "metadata": {},
   "source": [
    "## 3. Análisis exploratorio\n",
    "\n",
    "### 3.1 Estadísticas de resumen\n",
    "\n",
    "Elija una de las tres especies y responda las siguientes preguntas solamente para la especie elegida:\n",
    "\n",
    "* a. ¿Cuál es el coeficiente de correlación entre `culmen_length` y `flipper_length`? ¿Qué nos indica este valor? Comente.\n",
    "* b. ¿Cual es el peso máximo del percentil 10 (el decil más bajo) para los machos?\n",
    "* c. ¿Cuál es la varianza de `culmen_depth` para las hembras?\n",
    "\n",
    "### 3.2 Visualización\n",
    "\n",
    "Utilizando la librería de visualización de su preferencia (matplotlib, seaborn, plotly), genere los siguientes gráficos:\n",
    "\n",
    "* a. Un scatterplot que relacione las variables `culmen_length` y `flipper_length` para las tres especies. Utilice colores distintos para diferenciar las especies entre sí.\n",
    "* b. Un histograma que muestre la distribución de peso para pingüinos macho y hembra. Utilice colores distintos para diferenciar los dos grupos.\n",
    "\n",
    "Analice y comente los resultados que obtuvo. No olvide colocar título y nombres claros a los ejes de sus gráficos."
   ]
  },
  {
   "cell_type": "code",
   "execution_count": 28,
   "id": "2d1dccce",
   "metadata": {},
   "outputs": [
    {
     "name": "stdout",
     "output_type": "stream",
     "text": [
      "0.3322739620956146\n"
     ]
    }
   ],
   "source": [
    "especie_escogida = penguins[penguins[\"species\"] == \"Adelie\"]\n",
    "correlacion = especie_escogida[\"culmen_length_mm\"].corr(especie_escogida[\"flipper_length_mm\"])\n",
    "print(correlacion)"
   ]
  },
  {
   "cell_type": "code",
   "execution_count": 31,
   "id": "91b18eb3",
   "metadata": {},
   "outputs": [
    {
     "name": "stdout",
     "output_type": "stream",
     "text": [
      "3560.0\n"
     ]
    }
   ],
   "source": [
    "macho = especie_escogida[especie_escogida[\"sex\"] == \"MALE\"]\n",
    "peso_percentil_10 = macho[\"body_mass_g\"].quantile(0.1)\n",
    "print(peso_percentil_10)"
   ]
  },
  {
   "cell_type": "code",
   "execution_count": 32,
   "id": "4b401b57",
   "metadata": {},
   "outputs": [
    {
     "name": "stdout",
     "output_type": "stream",
     "text": [
      "4.116366057838661\n"
     ]
    }
   ],
   "source": [
    "hembras = especie_escogida[especie_escogida[\"sex\"] == \"FEMALE\"]\n",
    "var_culmen = hembras[\"culmen_length_mm\"].var()\n",
    "print(var_culmen)"
   ]
  },
  {
   "cell_type": "markdown",
   "id": "e21eaafa",
   "metadata": {},
   "source": [
    "3.1 especie escogida = Adelie\n",
    "A) el coef de relacion entre el largo del culme y el largo de la ala es de 0.3322, y este valor nos dice que que el tamaño del pico y del ala estan muy relacionado ya que existe una diferencia minima entre estos dos valores\n",
    "\n",
    "B) El peso maximo del percentil 10 de los machos de esta especie es de 3560g\n",
    "\n",
    "c) La varianza del largo del pico de las hembras es de 4.116"
   ]
  },
  {
   "cell_type": "code",
   "execution_count": 33,
   "id": "88260d5b",
   "metadata": {},
   "outputs": [
    {
     "data": {
      "image/png": "[encoded data removed]",
      "text/plain": [
       "<Figure size 800x600 with 1 Axes>"
      ]
     },
     "metadata": {},
     "output_type": "display_data"
    }
   ],
   "source": [
    "species = penguins[\"species\"].unique()\n",
    "colors = [\"tab:blue\", \"tab:orange\", \"tab:green\"]\n",
    "\n",
    "plt.figure(figsize=(8, 6))\n",
    "for sp, color in zip(species, colors):\n",
    "    subset = penguins[penguins[\"species\"] == sp]\n",
    "    plt.scatter(subset[\"culmen_length_mm\"], subset[\"flipper_length_mm\"], label=sp, alpha=0.7, color=color)\n",
    "plt.xlabel(\"Culmen Length (mm)\")\n",
    "plt.ylabel(\"Flipper Length (mm)\")\n",
    "plt.title(\"Culmen Length vs Flipper Length por especie\")\n",
    "plt.legend()\n",
    "plt.show()"
   ]
  }
 ],
 "metadata": {
  "kernelspec": {
   "display_name": "Python 3",
   "language": "python",
   "name": "python3"
  },
  "language_info": {
   "codemirror_mode": {
    "name": "ipython",
    "version": 3
   },
   "file_extension": ".py",
   "mimetype": "text/x-python",
   "name": "python",
   "nbconvert_exporter": "python",
   "pygments_lexer": "ipython3",
   "version": "3.12.9"
  }
 },
 "nbformat": 4,
 "nbformat_minor": 5
}
