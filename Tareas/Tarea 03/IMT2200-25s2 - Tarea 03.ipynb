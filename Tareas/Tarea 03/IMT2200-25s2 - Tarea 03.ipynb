{
 "cells": [
  {
   "cell_type": "markdown",
   "id": "63948f0b-11ed-4a9b-9709-53d3fe53977b",
   "metadata": {},
   "source": [
    "# <img style=\"float: left; padding-right: 20px; width: 200px\" src=\"https://raw.githubusercontent.com/raxlab/imt2200-data/main/media/logo.jpg\">  IMT 2200 - Introducción a Ciencia de Datos\n",
    "**Pontificia Universidad Católica de Chile**<br>\n",
    "**Instituto de Ingeniería Matemática y Computacional**<br>\n",
    "**Semestre 2025-S2**<br>\n",
    "**Profesor:** Rodrigo A. Carrasco <br>"
   ]
  },
  {
   "cell_type": "markdown",
   "id": "a34d140a",
   "metadata": {},
   "source": [
    "# <h1><center>Tarea 03: Exploración de datos </center></h1>\n",
    "\n",
    "**Fecha de Entrega:** 28 de octubre de 2025, a las 23:59.\n",
    "\n",
    "**Fecha de publicación**: 14 de octubre de 2025.\n",
    "\n",
    "**Formato de entrega:** Notebook ejecutado y comentado (`.ipynb`) en el módulo de Tarea 03 habilitado en Canvas."
   ]
  },
  {
   "cell_type": "markdown",
   "id": "b6928ed9-0a2b-4588-8282-b3f3e5e24a8c",
   "metadata": {},
   "source": [
    "## Instrucciones\n",
    "\n",
    "- Esta Tarea debe desarrollarse de manera totalmente *individual*, de acuerdo a lo establecido en la sección de Integridad Académica en el programa del curso.\n",
    "- La Tarea debe ser desarrollada en lenguaje de programación Python y la entrega en formato Jupyter Notebook.\n",
    "- El desarrollo del Notebook debe ser claro y ordenado, incluyendo anotaciones (markdown) y comentarios que permitan seguir fácilmente el código y los pasos implementados a los correctores, y siguiendo buenas prácticas de programación. La presentación y claridad del notebook y código forman parte de la evaluación de la tarea.\n",
    "- Notebook **autocontenible** que:\n",
    "   - Ejecute sin errores todas las celdas.\n",
    "  - Contenga tanto el código como los comentarios y explicaciones necesarias.\n",
    "  - Incluya visualizaciones claras y correctamente etiquetadas.\n",
    "- No se aceptarán notebooks con celdas rotas o que dependan de rutas externas no indicadas en la tarea.\n",
    "\n",
    "- Deben hacer sus consultas y comentarios sobre la Tarea a través del canal de Tareas en el Foro del curso en Canvas.\n",
    "\n",
    "---"
   ]
  },
  {
   "cell_type": "markdown",
   "id": "35a88d5e-b718-4b8e-81c8-dc169d02e88e",
   "metadata": {},
   "source": [
    "## 1. Objetivos\n",
    "\n",
    "- Aplicar los conceptos iniciales de manejo de datos y análisis exploratorio vistos en clases.\n",
    "- Practicar la lectura, limpieza y manipulación de datos en Python.\n",
    "- Desarrollar habilidades para visualizar y describir patrones y tendencias en conjuntos de datos reales.\n",
    "- Fomentar la capacidad de comunicar resultados de forma clara y fundamentada.\n",
    "\n",
    "### 1.1 Objetivo educacional\n",
    "\n",
    "Esta Tarea tiene como objetivo que los estudiantes desarrollen la capacidad de manejar algunas de las librerías centrales para el desarrollo de Ciencia de Datos, con foco en la lectura y exploración de datos. \n",
    "\n",
    "Para los ejercicios a continuación, usted deberá leer, inspeccionar, manipular y graficar conjuntos de datos en distintos formatos, de manera de responder las preguntas de cada parte de la Tarea.\n",
    "\n",
    "### 1.2 Pregunta de ciencia de datos\n",
    "\n",
    "En esta tarea vamos a analizar la distribución de vulneribilidad escolar para distintos establecimientos educacionales en Chile, desde enseñanza parvularia hasta enseñanza media. Específicamente, queremos entender cómo se comporta un índice de vulnerabilidad en relación a variables como ruralidad, tipo de dependencia y comuna del establecimiento.\n",
    "\n",
    "---"
   ]
  },
  {
   "cell_type": "markdown",
   "id": "116596ef",
   "metadata": {},
   "source": [
    "## 2. Datos\n",
    "\n",
    "En este estudio, trabajaremos con los resultados publicados anualmente sobre por la JUNAEB\n",
    "sobre vulnerabilidad de establecimientos educacionales en todo el territorio nacional. Estos resultados están disponibles en la siguiente página web:\n",
    "\n",
    "* Índices de Vulnerabilidad (JUNAEB): https://www.junaeb.cl/medicion-la-vulnerabilidad-ivm/\n",
    "\n",
    "Adicionalmente, para visualizar las variables, utilizaremos los mapas vectoriales que disponibiliza la Biblioteca del Congreso Nacional (BCN):\n",
    "\n",
    "* Mapoteca BCN: https://www.bcn.cl/siit/mapas_vectoriales/index_html\n",
    "\n",
    "### 2.1 Descarga de datos y conceptos generales (1 punto)\n",
    "\n",
    "Acceda a los links entregados y descargue el set de datos del **Índice de Vulnerabilidad Multidimensional de Establecimientos Educacionales** para el año 2025. Este debería ser un documento XLSX con múltiples pestañas, incluyendo entre estas un índice que describe las columnas presentes en la base de datos.\n",
    "Descargue además los archivos correspondientes a la **División comunal: polígonos de las comunas de Chile**. Este se descarga en formato `.zip` y contiene archivos shapefile para visualizar las comunas del país.\n",
    "\n",
    "Investigue sobre este índice y responda de manera concisa: \n",
    "* ¿En qué consiste el IVM? ¿Qué rango de valores toma y qué significan? \n",
    "* ¿Cómo se obtiene el IVM de un establecimiento educacional?\n",
    "\n"
   ]
  },
  {
   "cell_type": "markdown",
   "id": "75dd29eb",
   "metadata": {},
   "source": [
    "Respuesta:\n",
    "\n",
    "¿En qué consiste el IVM? El Índice de Vulnerabilidad Multidimensional (IVM) es una medida estadística que evalúa la vulnerabilidad \"no observable\" de un estudiante según su trayectoria escolar. Fue desarrollado por Junaeb y la Pontificia Universidad Católica de Chile. Se calcula anualmente de forma independiente para cuatro etapas: Parvularia, 1° Ciclo Básico, 2° Ciclo Básico y Media.\n",
    "\n",
    "¿Qué rango de valores toma y qué significan? El IVM genera un puntaje que oscila entre 0 y 100, donde 100 representa la máxima vulnerabilidad posible. Este puntaje numérico también se expresa en cuatro categorías: bajo, medio, alto o muy alto.\n",
    "\n",
    "¿Cómo se obtiene el IVM? Se obtiene consolidando múltiples fuentes de datos. Alrededor del 70% de la información proviene de la Encuesta de Vulnerabilidad de Junaeb (aplicada en pre-kínder, kínder, 1°, 5° básico y I° Medio). El 30% restante proviene de registros administrativos de otras instituciones del Estado (como MINEDUC, Registro Civil, FONASA, MDS, etc.). Luego, se aplican modelos estadísticos (como Análisis Factorial) para calcular el puntaje final."
   ]
  },
  {
   "cell_type": "markdown",
   "id": "0eded36f",
   "metadata": {},
   "source": [
    "## 3. Lectura y limpieza de datos (1 punto)\n",
    "\n",
    "### 3.1 Datos de establecimientos (0.5 puntos)\n",
    "El archivo descargado contiene información sobre establecimientos de cuatro tipos: Parvularia, Primer Ciclo Básica, Segundo Ciclo Básica y Media.\n",
    "Cargue los datos de los establecimientos en cuatro DataFrames distintos.\n",
    "\n",
    "Revise cada uno de sus sets de datos y haga un proceso de limpieza si lo considera necesario (manejo de valores nulos, duplicados, inválidos, transformación de tipos de datos, etc). De haberlos, identifique qué atributos son categóricos y transforme los tipos de columna de acuerdo a su decisión, mostrando todos los posibles valores de cada categoría.\n",
    "\n",
    "Justifique **todas** sus decisiones, **incluso** si decide no realizar una limpieza o transformación.\n",
    "\n",
    "Finalmente, responda:\n",
    "\n",
    "* a. ¿Cuántos establecimientos tiene cada set de datos?\n",
    "* b. ¿Cuánto espacio en memoria ocupan en total los 4 datasets?\n",
    "* c. ¿Cuántos estudiantes fueron evaluados en todo el país para cada nivel de enseñanza para el año 2025?\n"
   ]
  },
  {
   "cell_type": "code",
   "execution_count": 1,
   "id": "9b94b683",
   "metadata": {},
   "outputs": [],
   "source": [
    "import pandas as pd\n",
    "import matplotlib.pyplot as plt\n"
   ]
  },
  {
   "cell_type": "code",
   "execution_count": 13,
   "id": "8f27ec54",
   "metadata": {},
   "outputs": [],
   "source": [
    "\n",
    "df_parv = pd.read_excel(\"data/IVM_Establecimientos_2025-2.xlsx\", sheet_name=\"Parvularia\")\n",
    "df_basica1 = pd.read_excel(\"data/IVM_Establecimientos_2025-2.xlsx\", sheet_name=\"1º Ciclo Básico\")\n",
    "df_basica2 = pd.read_excel(\"data/IVM_Establecimientos_2025-2.xlsx\", sheet_name=\"2º Ciclo Básico\")\n",
    "df_media = pd.read_excel(\"data/IVM_Establecimientos_2025-2.xlsx\", sheet_name=\"Media\")\n"
   ]
  },
  {
   "cell_type": "code",
   "execution_count": null,
   "id": "8c99f8fc",
   "metadata": {},
   "outputs": [
    {
     "name": "stdout",
     "output_type": "stream",
     "text": [
      "<class 'pandas.core.frame.DataFrame'>\n",
      "RangeIndex: 6163 entries, 0 to 6162\n",
      "Data columns (total 21 columns):\n",
      " #   Column                    Non-Null Count  Dtype  \n",
      "---  ------                    --------------  -----  \n",
      " 0   ID_RBD                    6163 non-null   int64  \n",
      " 1   DV_RBD                    6163 non-null   int64  \n",
      " 2   DS_NOM_ESTABLE            6163 non-null   object \n",
      " 3   DS_TIPO_DEPENDENCIA       6163 non-null   object \n",
      " 4   DS_RURALIDAD              6163 non-null   object \n",
      " 5   ID_REGION_ESTABLE         6163 non-null   int64  \n",
      " 6   ID_PROVINCIA_ESTABLE      6163 non-null   int64  \n",
      " 7   ID_COMUNA_ESTABLE         6163 non-null   int64  \n",
      " 8   DS_COMUNA_ESTABLE         6163 non-null   object \n",
      " 9   N EVALUADO                6163 non-null   int64  \n",
      " 10  IVM Establecimiento       6163 non-null   float64\n",
      " 11  IVM Bajo                  6163 non-null   int64  \n",
      " 12  IVM Medio                 6163 non-null   int64  \n",
      " 13  IVM Alto                  6163 non-null   int64  \n",
      " 14  IVM Muy Alto              6163 non-null   int64  \n",
      " 15  IVM Salud                 6163 non-null   float64\n",
      " 16  IVM CSE Familiar          6163 non-null   float64\n",
      " 17  IVM Estimulación y Apoyo  6163 non-null   float64\n",
      " 18  IVM Familia               6163 non-null   float64\n",
      " 19  IVM CSE Comunal           6163 non-null   float64\n",
      " 20  IVM Derechos              6163 non-null   float64\n",
      "dtypes: float64(7), int64(10), object(4)\n",
      "memory usage: 1011.2+ KB\n"
     ]
    },
    {
     "data": {
      "text/plain": [
       "np.int64(0)"
      ]
     },
     "execution_count": 27,
     "metadata": {},
     "output_type": "execute_result"
    }
   ],
   "source": [
    "df_parv.info()\n",
    "df_parv.notnull().sum()\n",
    "df_parv.describe()\n",
    "df_parv.duplicated().sum()\n",
    "\n",
    "#viendo esto se ve que no hay datos nulos ni duplicados en el dataset de parvulario y por lo tanto no necesita mas limpieza de la que ya existe\n"
   ]
  },
  {
   "cell_type": "code",
   "execution_count": 28,
   "id": "95067f86",
   "metadata": {},
   "outputs": [
    {
     "name": "stdout",
     "output_type": "stream",
     "text": [
      "<class 'pandas.core.frame.DataFrame'>\n",
      "RangeIndex: 7082 entries, 0 to 7081\n",
      "Data columns (total 23 columns):\n",
      " #   Column                Non-Null Count  Dtype  \n",
      "---  ------                --------------  -----  \n",
      " 0   ID_RBD                7082 non-null   int64  \n",
      " 1   DV_RBD                7082 non-null   int64  \n",
      " 2   DS_NOM_ESTABLE        7082 non-null   object \n",
      " 3   DS_TIPO_DEPENDENCIA   7082 non-null   object \n",
      " 4   DS_RURALIDAD          7082 non-null   object \n",
      " 5   ID_REGION_ESTABLE     7082 non-null   int64  \n",
      " 6   ID_PROVINCIA_ESTABLE  7082 non-null   int64  \n",
      " 7   ID_COMUNA_ESTABLE     7082 non-null   int64  \n",
      " 8   DS_COMUNA_ESTABLE     7082 non-null   object \n",
      " 9   N EVALUADO            7082 non-null   int64  \n",
      " 10  IVM Establecimiento   7082 non-null   float64\n",
      " 11  IVM Bajo              7082 non-null   int64  \n",
      " 12  IVM Medio             7082 non-null   int64  \n",
      " 13  IVM Alto              7082 non-null   int64  \n",
      " 14  IVM Muy Alto          7082 non-null   int64  \n",
      " 15  IVM Salud             7082 non-null   float64\n",
      " 16  IVM Discapacidad      7082 non-null   float64\n",
      " 17  IVM Educación         7082 non-null   float64\n",
      " 18  IVM Habitabilidad     7082 non-null   float64\n",
      " 19  IVM Familiar          7082 non-null   float64\n",
      " 20  IVM Participación     7082 non-null   float64\n",
      " 21  IVM CSE Familia       7082 non-null   float64\n",
      " 22  IVM CSE Comunal       7082 non-null   float64\n",
      "dtypes: float64(9), int64(10), object(4)\n",
      "memory usage: 1.2+ MB\n"
     ]
    },
    {
     "data": {
      "text/plain": [
       "np.int64(0)"
      ]
     },
     "execution_count": 28,
     "metadata": {},
     "output_type": "execute_result"
    }
   ],
   "source": [
    "df_basica1.info()\n",
    "df_basica1.notnull().sum()\n",
    "df_basica1.describe()\n",
    "df_basica1.duplicated().sum()"
   ]
  },
  {
   "cell_type": "code",
   "execution_count": 29,
   "id": "5d45bdcd",
   "metadata": {},
   "outputs": [
    {
     "name": "stdout",
     "output_type": "stream",
     "text": [
      "<class 'pandas.core.frame.DataFrame'>\n",
      "RangeIndex: 5662 entries, 0 to 5661\n",
      "Data columns (total 15 columns):\n",
      " #   Column                Non-Null Count  Dtype  \n",
      "---  ------                --------------  -----  \n",
      " 0   ID_RBD                5662 non-null   int64  \n",
      " 1   DV_RBD                5662 non-null   int64  \n",
      " 2   DS_NOM_ESTABLE        5662 non-null   object \n",
      " 3   DS_TIPO_DEPENDENCIA   5662 non-null   object \n",
      " 4   DS_RURALIDAD          5662 non-null   object \n",
      " 5   ID_REGION_ESTABLE     5662 non-null   int64  \n",
      " 6   ID_PROVINCIA_ESTABLE  5662 non-null   int64  \n",
      " 7   ID_COMUNA_ESTABLE     5662 non-null   int64  \n",
      " 8   DS_COMUNA_ESTABLE     5662 non-null   object \n",
      " 9   N EVALUADO            5662 non-null   int64  \n",
      " 10  IVM Establecimiento   5662 non-null   float64\n",
      " 11  IVM Bajo              5662 non-null   int64  \n",
      " 12  IVM Medio             5662 non-null   int64  \n",
      " 13  IVM Alto              5662 non-null   int64  \n",
      " 14  IVM Muy Alto          5662 non-null   int64  \n",
      "dtypes: float64(1), int64(10), object(4)\n",
      "memory usage: 663.6+ KB\n"
     ]
    },
    {
     "data": {
      "text/plain": [
       "np.int64(0)"
      ]
     },
     "execution_count": 29,
     "metadata": {},
     "output_type": "execute_result"
    }
   ],
   "source": [
    "df_basica2.info()\n",
    "df_basica2.notnull().sum()\n",
    "df_basica2.describe()\n",
    "df_basica2.duplicated().sum()\n"
   ]
  },
  {
   "cell_type": "code",
   "execution_count": 30,
   "id": "e29f325e",
   "metadata": {},
   "outputs": [
    {
     "name": "stdout",
     "output_type": "stream",
     "text": [
      "<class 'pandas.core.frame.DataFrame'>\n",
      "RangeIndex: 2618 entries, 0 to 2617\n",
      "Data columns (total 15 columns):\n",
      " #   Column                Non-Null Count  Dtype  \n",
      "---  ------                --------------  -----  \n",
      " 0   ID_RBD                2618 non-null   int64  \n",
      " 1   DV_RBD                2618 non-null   int64  \n",
      " 2   DS_NOM_ESTABLE        2618 non-null   object \n",
      " 3   DS_TIPO_DEPENDENCIA   2618 non-null   object \n",
      " 4   DS_RURALIDAD          2618 non-null   object \n",
      " 5   ID_REGION_ESTABLE     2618 non-null   int64  \n",
      " 6   ID_PROVINCIA_ESTABLE  2618 non-null   int64  \n",
      " 7   ID_COMUNA_ESTABLE     2618 non-null   int64  \n",
      " 8   DS_COMUNA_ESTABLE     2618 non-null   object \n",
      " 9   N EVALUADO            2618 non-null   int64  \n",
      " 10  IVM Establecimiento   2618 non-null   float64\n",
      " 11  IVM Bajo              2618 non-null   int64  \n",
      " 12  IVM Medio             2618 non-null   int64  \n",
      " 13  IVM Alto              2618 non-null   int64  \n",
      " 14  IVM Muy Alto          2618 non-null   int64  \n",
      "dtypes: float64(1), int64(10), object(4)\n",
      "memory usage: 306.9+ KB\n"
     ]
    },
    {
     "data": {
      "text/plain": [
       "np.int64(0)"
      ]
     },
     "execution_count": 30,
     "metadata": {},
     "output_type": "execute_result"
    }
   ],
   "source": [
    "df_media.info()\n",
    "df_media.notnull().sum()\n",
    "df_media.describe()\n",
    "df_media.duplicated().sum()\n"
   ]
  },
  {
   "cell_type": "markdown",
   "id": "acd90f41",
   "metadata": {},
   "source": [
    "--Se revisaron los datasets y se concluyo que ya estan ordenados y limpiados acordemente para ser utilizados en el analisis."
   ]
  },
  {
   "cell_type": "code",
   "execution_count": 51,
   "id": "4462cb2b",
   "metadata": {},
   "outputs": [
    {
     "name": "stdout",
     "output_type": "stream",
     "text": [
      "2.4612369537353516\n"
     ]
    }
   ],
   "source": [
    "n = df_parv.memory_usage(deep=True).sum()\n",
    "kb = n / 1024\n",
    "m = kb / 1024\n",
    "print(m)"
   ]
  },
  {
   "cell_type": "code",
   "execution_count": 55,
   "id": "a0d0e8c6",
   "metadata": {},
   "outputs": [
    {
     "name": "stdout",
     "output_type": "stream",
     "text": [
      "2.919889450073242\n"
     ]
    }
   ],
   "source": [
    "n2 = df_basica1.memory_usage(deep=True).sum() \n",
    "kb2 = n2 / 1024\n",
    "m2 = kb2 / 1024\n",
    "print(m2)"
   ]
  },
  {
   "cell_type": "code",
   "execution_count": 53,
   "id": "f01e71be",
   "metadata": {},
   "outputs": [
    {
     "name": "stdout",
     "output_type": "stream",
     "text": [
      "2.000594139099121\n"
     ]
    }
   ],
   "source": [
    "n3 = df_basica2.memory_usage(deep=True).sum()\n",
    "kb3 = n3 / 1024\n",
    "m3 = kb3 / 1024\n",
    "print(m3)"
   ]
  },
  {
   "cell_type": "code",
   "execution_count": 54,
   "id": "d9f902e5",
   "metadata": {},
   "outputs": [
    {
     "name": "stdout",
     "output_type": "stream",
     "text": [
      "0.9323234558105469\n"
     ]
    }
   ],
   "source": [
    "n4 =df_media.memory_usage(deep=True).sum()\n",
    "kb4 = n4 / 1024\n",
    "m4 = kb4 / 1024\n",
    "print(m4)"
   ]
  },
  {
   "cell_type": "code",
   "execution_count": 57,
   "id": "7c8aec0c",
   "metadata": {},
   "outputs": [
    {
     "name": "stdout",
     "output_type": "stream",
     "text": [
      "8.314043998718262\n"
     ]
    }
   ],
   "source": [
    "total = m + m2 + m3 + m4\n",
    "print(total)"
   ]
  },
  {
   "cell_type": "markdown",
   "id": "461abdd8",
   "metadata": {},
   "source": [
    "# Respuestas\n",
    "\n",
    "A) el dataset parvulario tiene 6163 establecimientos, el primer ciclo básico tiene 7082 establecimientos, el segundo ciclo básico tiene 5662 establecimientos, y el dataset de media tiene 2618 establecimientos.\n",
    "b) \n"
   ]
  },
  {
   "cell_type": "markdown",
   "id": "c5f969e8",
   "metadata": {},
   "source": [
    "### 3.2 Datos geográficos (0.5 puntos)\n",
    "\n",
    "Cargue en un GeoDataFrame de GeoPandas la información de los polígonos de cada comuna del país.\n",
    "\n",
    "Como realizamos en la Tarea pasada, puede transformar el Coordinate Reference System (CRS) a EPSG 4326, para tener la información de los puntos de los polígonos con latitud y longitud."
   ]
  },
  {
   "cell_type": "code",
   "execution_count": null,
   "id": "24df85e1",
   "metadata": {},
   "outputs": [],
   "source": [
    "# Respuesta"
   ]
  },
  {
   "cell_type": "markdown",
   "id": "8370570f",
   "metadata": {},
   "source": [
    "## 4. Análisis descriptivo (1.5 puntos)\n",
    "\n",
    "En esta sección haremos una exploración preliminar de los 4 sets de datos cargados. Para cada una de las siguientes preguntas, sustente su respuesta con al menos un gráfico y su análisis respectivo.\n",
    "\n",
    "**Recomendación:** puede utilizar el método `subplots()` de `matplotlib.pyplot` para facilitar la visualización de múltiples gráficos a la vez.\n",
    "\n",
    "### 4.1 Ruralidad (0.8 pts)\n",
    "* a. ¿Cuál es la cantidad de establecimientos rurales vs urbanos según nivel de enseñanza?\n",
    "* b. ¿Cómo se distribuye el IVM según nivel de enseñanza y ruralidad?\n"
   ]
  },
  {
   "cell_type": "code",
   "execution_count": null,
   "id": "177c6b2b",
   "metadata": {},
   "outputs": [],
   "source": [
    "# respuestas"
   ]
  },
  {
   "cell_type": "markdown",
   "id": "98c570ed",
   "metadata": {},
   "source": [
    "Respuesta y comentarios:"
   ]
  },
  {
   "cell_type": "markdown",
   "id": "3860c109",
   "metadata": {},
   "source": [
    "### 4.2 Tipo de establecimiento (0.7 pts)\n",
    "\n",
    "* ¿Cómo es la distribución del IVM promedio de los establecimientos según tipo de dependencia y nivel de enseñanza? "
   ]
  },
  {
   "cell_type": "code",
   "execution_count": null,
   "id": "a695eb13",
   "metadata": {},
   "outputs": [],
   "source": [
    "# respuestas"
   ]
  },
  {
   "cell_type": "markdown",
   "id": "591f51ee",
   "metadata": {},
   "source": [
    "Respuesta y comentarios:"
   ]
  },
  {
   "cell_type": "markdown",
   "id": "0814c984",
   "metadata": {},
   "source": [
    "### 4.3 Pregunta Bono: Dimensiones de vulnerabilidad (1 punto)\n",
    "\n",
    "Para los niveles de enseñanza Parvularia y Básica Primer ciclo (1-4º), tenemos información sobre distintas dimensiones de que se utilizan para calcular el IVM, como condición socioeconómica familiar y comunal, salud, etc. \n",
    "\n",
    "* Para todo Chile, en promedio, ¿cuál es la dimensión con mayor puntaje de IVM para cada uno de estos dos niveles de enseñanza?"
   ]
  },
  {
   "cell_type": "code",
   "execution_count": null,
   "id": "00dbb63a",
   "metadata": {},
   "outputs": [],
   "source": [
    "# Respuestas"
   ]
  },
  {
   "cell_type": "markdown",
   "id": "5aa29f18",
   "metadata": {},
   "source": [
    "Respuesta y comentarios:"
   ]
  },
  {
   "cell_type": "markdown",
   "id": "6e5adfb6",
   "metadata": {},
   "source": [
    "## 5. Agrupación de bases de datos (2 puntos)\n",
    "\n",
    "El objetivo de esta sección será agrupar los establecimientos según la comuna en la que se encuentran para obtener un resumen general sobre la vulnerabilidad escolar en cada una de ellas. Al finalizar esta sección, tendremos un nuevo DataFrame `agg_comunal` que contenga, al menos, la siguiente información:\n",
    "\n",
    "* Comuna (nombre y ID)\n",
    "* Región (ID)\n",
    "* Cantidad de establecimientos rurales de la comuna\n",
    "* Cantidad de establecimientos urbanos de la comuna\n",
    "* Cantidad total de establecimientos de la comuna\n",
    "* Porcentaje de establecimientos rurales\n",
    "* IVM Promedio Parvularia de la comuna\n",
    "* IVM Promedio Básica Primer Ciclo de la comuna\n",
    "* IVM Promedio Básica Segundo Ciclo de la comuna\n",
    "* IVM Promedio Media de la comuna\n",
    "* Objeto geometry de GeoPandas correspondiente al polígono de la comuna respectiva\n",
    "\n",
    "Armaremos este DataFrame paso a paso.\n",
    "\n",
    "### 5.1 Cálculo de IVM promedio por comuna (0.8 pts)\n",
    "\n",
    "Primero, para cada uno sus 4 DataFrames, calcule el promedio de la columna `IVM Establecimiento` según comuna. Almacene este valor en una nueva columna llamada `IVM Promedio {NIVEL DE ENSEÑANZA}` (por ejemplo, para enseñanza parvularia, cree la columna `IVM Promedio Parvularia`).\n",
    "\n",
    "Junte los 4 resultados que obtuvo en un solo DataFrame `ivm_comunal` que contenga:\n",
    "* Comuna (nombre y ID)\n",
    "* Región (ID)\n",
    "* IVM Promedio Parvularia de la comuna\n",
    "* IVM Promedio Básica Primer Ciclo de la comuna\n",
    "* IVM Promedio Básica Segundo Ciclo de la comuna\n",
    "* IVM Promedio Media de la comuna\n",
    "\n",
    "Ponga siempre atención al tamaño de sus DataFrames: como estamos agrupando comunalmente, estos siempre debiesen tener una cantidad de filas igual a las comunas de Chile."
   ]
  },
  {
   "cell_type": "code",
   "execution_count": null,
   "id": "8e489b44",
   "metadata": {},
   "outputs": [],
   "source": [
    "# respuestas"
   ]
  },
  {
   "cell_type": "markdown",
   "id": "fb24adf7",
   "metadata": {},
   "source": [
    "### 5.2 Establecimientos por comuna y ruralidad (0.8 pts)\n",
    "\n",
    "Ahora contaremos la cantidad de establecimientos por comuna según ruralidad. Como buscamos la cantidad total de establecimientos, consideramos establecimientos de todos los niveles educacionales vistos. Para esto, combine los 4 DataFrames que cargó y genere un nuevo DataFrame `estab_comunal` que contenga:\n",
    "\n",
    "* Comuna (ID)\n",
    "* Cantidad de establecimientos rurales\n",
    "* Cantidad de establecimientos urbanos\n",
    "* Cantidad total de establecimientos\n",
    "* Porcentaje de establecimientos rurales (Establecimientos rurales / Total establecimientos * 100)\n",
    "\n",
    "Tenga en cuenta de que pueden aparecer establecimientos duplicados al combinar estos 4 DataFrames (por ejemplo, establecimientos que imparten múltiples niveles de enseñanza, desde 1º básico hasta 4º medio). Preocúpese de manejar estos casos antes de agrupar sus datos según ruralidad."
   ]
  },
  {
   "cell_type": "code",
   "execution_count": null,
   "id": "ddcb38b3",
   "metadata": {},
   "outputs": [],
   "source": [
    "# respuestas"
   ]
  },
  {
   "cell_type": "markdown",
   "id": "2a5925b0",
   "metadata": {},
   "source": [
    "### 5.3 Unión de bases de datos y polígonos (0.4 pts)\n",
    "\n",
    "Finalmente, vamos a generar el DataFrame `agg_comunal` con la información de los dos previos DataFrames creados.\n",
    "Combine la información de las dos secciones anteriores para crear su base de datos unificada. Por último, agregue la columna `geometry` con la información geográfica de cada comuna."
   ]
  },
  {
   "cell_type": "code",
   "execution_count": null,
   "id": "f0eff416",
   "metadata": {},
   "outputs": [],
   "source": [
    "# respuestas"
   ]
  },
  {
   "cell_type": "markdown",
   "id": "d87ba835",
   "metadata": {},
   "source": [
    "## 6. Análisis de vulnerabilidad por comuna (1.5 puntos)\n",
    "\n",
    "### 6.1 Mapa de calor (0.8 pts)\n",
    "\n",
    "Genere mapas de calor de las comunas de Chile según el IVM promedio de los establecimientos educacionales. Realice esto para cada etapa de enseñanza (Parvularia, Básica 1, Básica 2 y Media). Analice y comente sus resultados:\n",
    "* ¿Cómo se diferencia la vulnerabilidad en distintos sectores del país según nivel de enseñanza?"
   ]
  },
  {
   "cell_type": "code",
   "execution_count": null,
   "id": "2daa853a",
   "metadata": {},
   "outputs": [],
   "source": [
    "# Respuesta"
   ]
  },
  {
   "cell_type": "markdown",
   "id": "b28a8701",
   "metadata": {},
   "source": [
    "Comentarios y análisis:"
   ]
  },
  {
   "cell_type": "markdown",
   "id": "8a780264",
   "metadata": {},
   "source": [
    "### 6.2 Relación entre ruralidad comunal y vulnerabilidad (0.7 pts)\n",
    "\n",
    "En la sección **5.2** definimos el **porcentaje de ruralidad** de cada comuna según la cantidad de establecimientos rurales en cada una. Analice y visualice los datos en `agg_comunal` para responder la siguiente pregunta:\n",
    "\n",
    "* ¿Hay alguna correlación entre el IVM promedio y el porcentaje de ruralidad en las comunas de Chile?"
   ]
  },
  {
   "cell_type": "code",
   "execution_count": null,
   "id": "3a35ab00",
   "metadata": {},
   "outputs": [],
   "source": [
    "# respuestas"
   ]
  },
  {
   "cell_type": "markdown",
   "id": "e466aa5f",
   "metadata": {},
   "source": [
    "## 7 Pregunta Bono (2 punto)\n",
    "\n",
    "* Proponga una pregunta de análisis que le interese responder con los datos de cualquiera de las bases de datos leídas o generadas durante esta Tarea.\n",
    "Respóndala de la misma forma que las preguntas anteriores, generando una o varias visualizaciones y analizando sus resultados. Justifique \n",
    "\n",
    "**Recomendación**: Trate de proponer una pregunta que justifique el uso de agregación de datos y visualización. En otras palabras, que\n",
    "no pueda ser respondida directamente sin el uso de gráficos (por ejemplo, *\"¿cuál es el establecimiento con mayor IVM?\"* puede ser respondida con una búsqueda rápida en el DataFrame)."
   ]
  },
  {
   "cell_type": "markdown",
   "id": "e71cdf47",
   "metadata": {},
   "source": [
    "**Pregunta propuesta:**"
   ]
  },
  {
   "cell_type": "code",
   "execution_count": null,
   "id": "29b4c361",
   "metadata": {},
   "outputs": [],
   "source": [
    "# respuesta"
   ]
  }
 ],
 "metadata": {
  "kernelspec": {
   "display_name": "Python 3",
   "language": "python",
   "name": "python3"
  },
  "language_info": {
   "codemirror_mode": {
    "name": "ipython",
    "version": 3
   },
   "file_extension": ".py",
   "mimetype": "text/x-python",
   "name": "python",
   "nbconvert_exporter": "python",
   "pygments_lexer": "ipython3",
   "version": "3.12.9"
  }
 },
 "nbformat": 4,
 "nbformat_minor": 5
}
