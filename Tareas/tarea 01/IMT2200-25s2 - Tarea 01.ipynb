{
 "cells": [
  {
   "cell_type": "markdown",
   "id": "a34d140a",
   "metadata": {},
   "source": [
    "IMT 2200 - Introducción a Ciencia de Datos<br>\n",
    "**Pontificia Universidad Católica de Chile**<br>\n",
    "**Instituto de Ingeniería Matemática y Computacional**<br>\n",
    "**Semestre 2025-S2**<br>\n",
    "**Profesor:** Rodrigo A. Carrasco <br>\n",
    "\n",
    "---\n",
    "\n",
    "## Tarea 01 – Cargando y Analizando Datos\n",
    "\n",
    "- **Fecha de Entrega:** martes 26 de agosto de 2025, a las 23:59.\n",
    "- \n",
    "**Formato de entrega:** Notebook ejecutado y comentado (`.ipynb`) en l emódulo de Tara 01 habilitado en Canvas.\n",
    "\n",
    "\n"
   ]
  },
  {
   "cell_type": "markdown",
   "id": "b6928ed9-0a2b-4588-8282-b3f3e5e24a8c",
   "metadata": {},
   "source": [
    "## Instrucciones\n",
    "\n",
    "- Esta Tarea debe desarrollarse de manera totalmente *individual*, de acuerdo a lo establecido en la sección de Integridad Académica en el programa del curso.\n",
    "- La Tarea debe ser desarrollada en lenguaje de programación Python y la entrega en formato Jupyter Notebook.\n",
    "- El desarrollo del Notebook debe ser claro y ordenado, incluyendo anotaciones (markdown) y comentarios que permitan seguir fácilmente el código y los pasos implementados a los correctores, y siguiendo buenas prácticas de programación. La presentación y claridad del notebook y código forman parte de la evaluación de la tarea.\n",
    "- Notebook **autocontenible** que:\n",
    "   - Ejecute sin errores todas las celdas.\n",
    "  - Contenga tanto el código como los comentarios y explicaciones necesarias.\n",
    "  - Incluya visualizaciones claras y correctamente etiquetadas.\n",
    "- No se aceptarán notebooks con celdas rotas o que dependan de rutas externas no indicadas en la tara.\n",
    "\n",
    "- Deben hacer sus consultas y comentarios sobre la Tarea a traves del canal de Tareas en eo del curso en Canvas.os.\n",
    "cteriza."
   ]
  },
  {
   "cell_type": "markdown",
   "id": "35a88d5e-b718-4b8e-81c8-dc169d02e88e",
   "metadata": {},
   "source": [
    "## 1. Objetivos\n",
    "\n",
    "- Aplicar los conceptos iniciales de manejo de datos y análisis exploratorio vistos en clases.\n",
    "- Practicar la lectura, limpieza y manipulación de datos en Python.\n",
    "- Desarrollar habilidades para visualizar y describir patrones y tendencias en conjuntos de datos reales.\n",
    "- Fomentar la capacidad de comunicar resultados de forma clara y fundamentada.\n",
    "\n",
    "### 1.1 Objetivo educacional\n",
    "\n",
    "Esta Tarea tiene como objetivo que los estudiantes desarrollen la capacidad de manejar algunas de las librerías centrales para el desarrollo de Ciencia de Datos, con foco en la lectura y exploración de datos. \n",
    "\n",
    "Para los ejercicios a continuación, usted deberá leer, inspeccionar, manipular y graficar conjuntos de datos en distintos formatos, de manera de responder las preguntas de cada parte de la Tarea.\n",
    "\n",
    "### 1.2 Pregunta de ciencia de datos\n",
    "\n",
    "Para esta tarea, tendremos como objetivo comprender cómo han cambiado los juegos de mesa en los últimos 40 años. Específicamente queremos saber qué tipos de juegos se han vuelto más comunes hoy en día y qué los caracteriza.\n",
    "\n",
    "### 1.3 Recomendaciones\n",
    "- Utiliza las librerías sugeridas en el notebook o justifica brevemente si incorporas otras.\n",
    "- Revisa que todas las celdas se ejecuten en orden, desde el inicio, sin errores.\n",
    "- Comenta tu código para explicar qué hace cada sección relevante.\n",
    "- Asegúrate de que las visualizaciones sean fáciles de interpretar y tengan títulos y etiquetas adecuados."
   ]
  },
  {
   "cell_type": "markdown",
   "id": "116596ef",
   "metadata": {},
   "source": [
    "## 2. Datos\n",
    "\n",
    "Estaremos utilizando información extraída desde [BoardGameGeek.com](https://boardgamegeek.com/), una plataforma para aficionados de los juegos de mesa, que permite a sus usuarios registrar, calificar e intercambiar sus juegos favoritos. Actualmente, BGG es una de las bases de datos más extensa y diversa de juegos de mesa.\n",
    "\n",
    "El dataset con el que trabajaremos consiste en un grupo de archivos CSV que contienen información sobre más de 100.000 juegos de mesa almacenados en la plataforma. Este puede descargarse directamente desde el siguiente enlace: https://www.kaggle.com/datasets/mshepherd/board-games Para descargar los datos, haga click en el botón de **Download**, donde podrá descargar los archivos como `.zip`, o bien utilizar la API de Kaggle.\n",
    "\n",
    "Para el desarrollo de esta tarea, solo utilizaremos los archivos con el prefijo `bgg_`.\n",
    "\n",
    "**Si utiliza la API de Kaggle para descargar los datos, deje el código utilizado en la siguiente celda:**"
   ]
  },
  {
   "cell_type": "code",
   "execution_count": null,
   "id": "3499fd7e",
   "metadata": {},
   "outputs": [],
   "source": [
    "# Descarga de datos desde Kaggle"
   ]
  },
  {
   "cell_type": "markdown",
   "id": "c32f6e52",
   "metadata": {},
   "source": [
    "### 2.1 Librerías\n",
    "\n",
    "Para esta tarea recomendamos al menos usar las librerías indicadas en la siguiente celda del Notebook. Puede agregar otras si lo estima conveniente para responder de mejor forma las preguntas de la Tarea."
   ]
  },
  {
   "cell_type": "code",
   "execution_count": 2,
   "id": "87be9d83",
   "metadata": {},
   "outputs": [],
   "source": [
    "import numpy as np\n",
    "import pandas as pd\n",
    "import matplotlib.pyplot as plt\n",
    "import os \n",
    "import pathlib\n"
   ]
  },
  {
   "cell_type": "markdown",
   "id": "49c9c1e7",
   "metadata": {},
   "source": [
    "## 3. Desarrollo\n",
    "\n",
    "Para cada una de las siguientes preguntas o actividades incluya una o más celdas de código y Markdown con las respuestas o comentarios necesarios para contestar la pregunta o lograr la actividad. Agregue sus celdas a continuación de cada pregunta para que el Notebook quede ordenado.\n",
    "\n",
    "En el caso de gráficos, figuras o tablas, asegúrese que todas tengan título, etiquetas en los ejes o haya claridad de los contenidos."
   ]
  },
  {
   "cell_type": "markdown",
   "id": "dfc274ca",
   "metadata": {},
   "source": [
    "### 3.1 DataFrame unificado (1 punto)\n",
    "\n",
    "Vamos a cargar en un DataFrame los datos de juegos guardados en el documento `bgg_GameItem.csv`. Al inspeccionar nuestros datos, podemos notar que los valores de ciertas comunas vienen \"codificados\" con ID. Para comenzar, vamos a juntar la información de los distintos archivos descargados.\n",
    "\n",
    "**a) (0.8 pts)** Genere un DataFrame único con toda la información de cada juego, incluyendo: nombres de artistas y diseñadores involucrados, mecánicas, categorías, tipo, familia y editorial. Guarde este DataFrame en un nuevo archivo CSV."
   ]
  },
  {
   "cell_type": "code",
   "execution_count": 61,
   "id": "12aabf07",
   "metadata": {},
   "outputs": [
    {
     "name": "stdout",
     "output_type": "stream",
     "text": [
      "        artist designer                            mechanic        category  \\\n",
      "0   12517,4959        1       2916,2080,2012,2072,2040,2020  1021,1026,1001   \n",
      "1        12424     8384                                2009       1002,1010   \n",
      "2        11883        2       2080,2040,2026,2846,2004,2002       1009,1035   \n",
      "3         2277     8008                 2001,2080,2012,2004            1050   \n",
      "4  12658,18317        4  2040,2910,2900,2940,2005,2002,2874       1021,1086   \n",
      "\n",
      "  game_type                            family  \\\n",
      "0      5497                    10643,34116,91   \n",
      "1      5497                  73592,7005,75454   \n",
      "2      5497  64960,10634,70711,60111,42,28732   \n",
      "3      5497                  64229,6471,11505   \n",
      "4      5497                        78494,4891   \n",
      "\n",
      "                                           publisher  \n",
      "0       133,2,24883,2726,15108,39249,11652,5382,8147  \n",
      "1                                              64,20  \n",
      "2  17,133,267,29,7340,7335,41,2973,4617,1391,8291...  \n",
      "3                                                 37  \n",
      "4  92,5,4871,3082,858,2962,28072,5392,4668,38,462...  \n"
     ]
    }
   ],
   "source": [
    "\n",
    "p = os.path.join(\"archive\", \"bgg_GameItem.csv\")\n",
    "prueba = pd.read_csv(p)\n",
    "\n",
    "\n",
    "columna = [\"artist\", \"designer\", \"mechanic\", \"category\",\"game_type\", \"family\", \"publisher\"]\n",
    "pp = prueba[columna]\n",
    "print(pp.head())\n",
    "pp.to_csv(\"artistas_diseñadores_mecanicas_categoria_tipo_familia_editorial.csv\", index=True)"
   ]
  },
  {
   "cell_type": "markdown",
   "id": "dec5cbbb",
   "metadata": {},
   "source": [
    "**b) (0.2 pts)** ¿Cuánto espacio en disco ocupa este DataFrame? ¿Cuánto espacio en disco ocupan los documentos CSV separados? ¿A qué se debe esta diferencia? Comente.\n",
    "\n"
   ]
  },
  {
   "cell_type": "markdown",
   "id": "030904e0",
   "metadata": {},
   "source": []
  },
  {
   "cell_type": "markdown",
   "id": "b8c7bec6",
   "metadata": {},
   "source": [
    "### 3.2 Juegos publicados anualmente (1.5 puntos)\n",
    "\n",
    "\n",
    "**a) (0.5 pts)** Limpie los datos para dejar solo aquellos que tienen valores válidos de año de publicación. Luego responda: ¿cuál es el rango de años con el que estamos trabajando? ¿Tienen sentido estos años?\n"
   ]
  },
  {
   "cell_type": "code",
   "execution_count": null,
   "id": "a8c60679",
   "metadata": {},
   "outputs": [
    {
     "data": {
      "text/plain": [
       "year    2025.0\n",
       "dtype: float64"
      ]
     },
     "execution_count": 58,
     "metadata": {},
     "output_type": "execute_result"
    }
   ],
   "source": [
    "p = os.path.join(\"archive\", \"bgg_GameItem.csv\")\n",
    "data = pd.read_csv(p)\n",
    "\n",
    "año = [\"year\"]\n",
    "años = data[año]\n",
    "\n",
    "\n",
    "databien = data[data['year'] >= 1900]\n",
    "databien = databien[databien['year'] <= 2025]\n",
    "dataañ = databien[año]\n",
    "print(dataañ.min())\n",
    "print(dataañ.max())"
   ]
  },
  {
   "cell_type": "markdown",
   "id": "f39b50af",
   "metadata": {},
   "source": [
    "Primero tome como \"Años validos\" todos los años desde el 1900 hasta el año actual,\n",
    "\n",
    "Con eso en consideracion, notar que el menor año desde el que se empieza es el año , y el año mas actual es el 2025.\n",
    "Y como analisis estos años sí tienen sentido para juegos de mesa modernos y permiten un análisis coherente de la inforacion y evolucion del genero de entretencion utilizado."
   ]
  },
  {
   "cell_type": "markdown",
   "id": "7b8d452e",
   "metadata": {},
   "source": [
    "**b) (0.5 pts)** Seleccione solamente los juegos entre los años 1980 y 2025. Luego grafique la cantidad de juegos publicados por año. ¿Cómo es esta tendencia? Comente."
   ]
  },
  {
   "cell_type": "code",
   "execution_count": 30,
   "id": "f073e58e",
   "metadata": {},
   "outputs": [
    {
     "data": {
      "image/png": "[encoded data removed]",
      "text/plain": [
       "<Figure size 1000x500 with 1 Axes>"
      ]
     },
     "metadata": {},
     "output_type": "display_data"
    }
   ],
   "source": [
    "p = os.path.join(\"archive\", \"bgg_GameItem.csv\")\n",
    "data = pd.read_csv(p)\n",
    "\n",
    "año = [\"year\"]\n",
    "años = data[año]\n",
    "\n",
    "\n",
    "databien = data[data['year'] >= 1980]\n",
    "databien = databien[databien['year'] <= 2025]\n",
    "dataañ = databien[año]\n",
    "\n",
    "juegos_por_año = databien['year'].value_counts().sort_index()\n",
    "\n",
    "\n",
    "plt.figure(figsize=(10,5))\n",
    "plt.bar(juegos_por_año.index, juegos_por_año.values)\n",
    "plt.title('Cantidad de juegos publicados por año (1980-2025)')\n",
    "plt.xlabel('Año')\n",
    "plt.ylabel('Cantidad de juegos')\n",
    "plt.grid(True)\n",
    "plt.show()"
   ]
  },
  {
   "cell_type": "markdown",
   "id": "80935a00",
   "metadata": {},
   "source": [
    "Se observa que hasta el año 2000, la cantidad de juegos publicados se mantenia estable rozando los 1000 juegos al año, pero cambio de milenio se nota una gran subida en el numero de juegos lanzados por año llegando a su pico de cantidad en 2019, esto demostrando el auge que tuvo esta industria en las ultimas 2 decadas"
   ]
  },
  {
   "cell_type": "markdown",
   "id": "047c1e61",
   "metadata": {},
   "source": [
    "**c) (0.5 pts)** ¿Entre qué años hubo un mayor aumento de publicación de juegos de mesa según los registros de BGG?"
   ]
  },
  {
   "cell_type": "markdown",
   "id": "d39ec93a",
   "metadata": {},
   "source": [
    "Asumiendo que se pide el aumento entre dos años consecutivos, Entre 2013 y 2014 hhubo un mayor aumento de publicaciones"
   ]
  },
  {
   "cell_type": "markdown",
   "id": "6c22b65f",
   "metadata": {},
   "source": [
    "### 3.3 Análisis de duración y complejidad (1.5 puntos)\n",
    "\n",
    "Si bien hay muchas posibles características que podemos explorar para los juegos de mesa, esta vez nos centraremos en el tiempo de juego y la complejidad. En esta sección queremos comprender si se ha modificado notablemente la duración promedio y la percepción de complejidad de los juegos de mesa a través de los años."
   ]
  },
  {
   "cell_type": "markdown",
   "id": "e6f0c875",
   "metadata": {},
   "source": [
    "**a) (0.3 pts)** Inspecciones y filtre los datos que tengan valores válidos para: tiempo mínimo de juego, tiempo máximo de juego y complejidad. En el caso de que existan \"outliers\", puede descartarlos, cosiderando un rango razonable para las variables anteriores. Justifique su desición."
   ]
  },
  {
   "cell_type": "code",
   "execution_count": 56,
   "id": "0e87bbc2",
   "metadata": {},
   "outputs": [
    {
     "data": {
      "text/html": [
       "<div>\n",
       "<style scoped>\n",
       "    .dataframe tbody tr th:only-of-type {\n",
       "        vertical-align: middle;\n",
       "    }\n",
       "\n",
       "    .dataframe tbody tr th {\n",
       "        vertical-align: top;\n",
       "    }\n",
       "\n",
       "    .dataframe thead th {\n",
       "        text-align: right;\n",
       "    }\n",
       "</style>\n",
       "<table border=\"1\" class=\"dataframe\">\n",
       "  <thead>\n",
       "    <tr style=\"text-align: right;\">\n",
       "      <th></th>\n",
       "      <th>min_time</th>\n",
       "      <th>max_time</th>\n",
       "      <th>complexity</th>\n",
       "    </tr>\n",
       "  </thead>\n",
       "  <tbody>\n",
       "    <tr>\n",
       "      <th>90260</th>\n",
       "      <td>30.0</td>\n",
       "      <td>120.0</td>\n",
       "      <td>5.0000</td>\n",
       "    </tr>\n",
       "    <tr>\n",
       "      <th>94131</th>\n",
       "      <td>30.0</td>\n",
       "      <td>120.0</td>\n",
       "      <td>5.0000</td>\n",
       "    </tr>\n",
       "    <tr>\n",
       "      <th>108361</th>\n",
       "      <td>30.0</td>\n",
       "      <td>60.0</td>\n",
       "      <td>5.0000</td>\n",
       "    </tr>\n",
       "    <tr>\n",
       "      <th>72664</th>\n",
       "      <td>30.0</td>\n",
       "      <td>150.0</td>\n",
       "      <td>4.6667</td>\n",
       "    </tr>\n",
       "    <tr>\n",
       "      <th>95118</th>\n",
       "      <td>30.0</td>\n",
       "      <td>60.0</td>\n",
       "      <td>4.3333</td>\n",
       "    </tr>\n",
       "    <tr>\n",
       "      <th>...</th>\n",
       "      <td>...</td>\n",
       "      <td>...</td>\n",
       "      <td>...</td>\n",
       "    </tr>\n",
       "    <tr>\n",
       "      <th>65626</th>\n",
       "      <td>10.0</td>\n",
       "      <td>45.0</td>\n",
       "      <td>NaN</td>\n",
       "    </tr>\n",
       "    <tr>\n",
       "      <th>108997</th>\n",
       "      <td>10.0</td>\n",
       "      <td>60.0</td>\n",
       "      <td>NaN</td>\n",
       "    </tr>\n",
       "    <tr>\n",
       "      <th>85700</th>\n",
       "      <td>10.0</td>\n",
       "      <td>60.0</td>\n",
       "      <td>NaN</td>\n",
       "    </tr>\n",
       "    <tr>\n",
       "      <th>69064</th>\n",
       "      <td>10.0</td>\n",
       "      <td>35.0</td>\n",
       "      <td>NaN</td>\n",
       "    </tr>\n",
       "    <tr>\n",
       "      <th>85539</th>\n",
       "      <td>10.0</td>\n",
       "      <td>60.0</td>\n",
       "      <td>NaN</td>\n",
       "    </tr>\n",
       "  </tbody>\n",
       "</table>\n",
       "<p>11674 rows × 3 columns</p>\n",
       "</div>"
      ],
      "text/plain": [
       "        min_time  max_time  complexity\n",
       "90260       30.0     120.0      5.0000\n",
       "94131       30.0     120.0      5.0000\n",
       "108361      30.0      60.0      5.0000\n",
       "72664       30.0     150.0      4.6667\n",
       "95118       30.0      60.0      4.3333\n",
       "...          ...       ...         ...\n",
       "65626       10.0      45.0         NaN\n",
       "108997      10.0      60.0         NaN\n",
       "85700       10.0      60.0         NaN\n",
       "69064       10.0      35.0         NaN\n",
       "85539       10.0      60.0         NaN\n",
       "\n",
       "[11674 rows x 3 columns]"
      ]
     },
     "execution_count": 56,
     "metadata": {},
     "output_type": "execute_result"
    }
   ],
   "source": [
    "p = os.path.join(\"archive\", \"bgg_GameItem.csv\")\n",
    "data = pd.read_csv(p)\n",
    "\n",
    "#se tomara el tiempo como minutos\n",
    "pedido = [\"min_time\", \"max_time\", \"complexity\"]\n",
    "a = data[pedido]\n",
    "a = a.sort_values(by='min_time', ascending=False)\n",
    "\n",
    "\n",
    "da = a[a['min_time'] >= 10]\n",
    "da = da[da['min_time'] <= 30]\n",
    "da = da[da['max_time'] >= 31]\n",
    "da = da[da['max_time'] <= 180]\n",
    "da = da.sort_values(by='complexity', ascending=False)\n",
    "\n",
    "da\n",
    "\n"
   ]
  },
  {
   "cell_type": "markdown",
   "id": "e9daa34a",
   "metadata": {},
   "source": [
    "JUSTIFICACION DE DATOS\n",
    "\n",
    "Se tomo el tiempo en minutos, por lo tanto el minimo escogido fueron 10 minutos de juego y el maximo fueron 180 (3 horas) ya que lo considero un tiempo maximo razonable para un juego de mesa.\n",
    "\n",
    "Por otro lado, la complejidad se tomo de menor a mayor en orden numerico, y el valor NaN se tomo como \"sin complejidad\" por lo que sera el minimo."
   ]
  },
  {
   "cell_type": "markdown",
   "id": "848e2dee",
   "metadata": {},
   "source": [
    "**b) (0.2 pts)** Veremos ahora si ha cambiado la duración promedio de los juegos de mesa en nuestro rango de años seleccionado. Primero, cree una nueva columna `avg_time` en el dataset con la duración promedio supuesta para cada juego."
   ]
  },
  {
   "cell_type": "code",
   "execution_count": 63,
   "id": "204778d8",
   "metadata": {},
   "outputs": [
    {
     "name": "stderr",
     "output_type": "stream",
     "text": [
      "C:\\Users\\gasxd\\AppData\\Local\\Temp\\ipykernel_7452\\2962942043.py:1: SettingWithCopyWarning: \n",
      "A value is trying to be set on a copy of a slice from a DataFrame.\n",
      "Try using .loc[row_indexer,col_indexer] = value instead\n",
      "\n",
      "See the caveats in the documentation: https://pandas.pydata.org/pandas-docs/stable/user_guide/indexing.html#returning-a-view-versus-a-copy\n",
      "  da['avg_time'] = (da['min_time'] + da['max_time']) / 2\n"
     ]
    },
    {
     "data": {
      "text/html": [
       "<div>\n",
       "<style scoped>\n",
       "    .dataframe tbody tr th:only-of-type {\n",
       "        vertical-align: middle;\n",
       "    }\n",
       "\n",
       "    .dataframe tbody tr th {\n",
       "        vertical-align: top;\n",
       "    }\n",
       "\n",
       "    .dataframe thead th {\n",
       "        text-align: right;\n",
       "    }\n",
       "</style>\n",
       "<table border=\"1\" class=\"dataframe\">\n",
       "  <thead>\n",
       "    <tr style=\"text-align: right;\">\n",
       "      <th></th>\n",
       "      <th>min_time</th>\n",
       "      <th>max_time</th>\n",
       "      <th>complexity</th>\n",
       "      <th>votos</th>\n",
       "      <th>avg_time</th>\n",
       "      <th>year</th>\n",
       "    </tr>\n",
       "  </thead>\n",
       "  <tbody>\n",
       "    <tr>\n",
       "      <th>81835</th>\n",
       "      <td>30.0</td>\n",
       "      <td>180.0</td>\n",
       "      <td>3.4444</td>\n",
       "      <td>386.0</td>\n",
       "      <td>105.0</td>\n",
       "      <td>2022.0</td>\n",
       "    </tr>\n",
       "    <tr>\n",
       "      <th>65779</th>\n",
       "      <td>30.0</td>\n",
       "      <td>180.0</td>\n",
       "      <td>1.5000</td>\n",
       "      <td>167.0</td>\n",
       "      <td>105.0</td>\n",
       "      <td>2015.0</td>\n",
       "    </tr>\n",
       "    <tr>\n",
       "      <th>78255</th>\n",
       "      <td>30.0</td>\n",
       "      <td>180.0</td>\n",
       "      <td>2.3333</td>\n",
       "      <td>218.0</td>\n",
       "      <td>105.0</td>\n",
       "      <td>2019.0</td>\n",
       "    </tr>\n",
       "    <tr>\n",
       "      <th>62024</th>\n",
       "      <td>30.0</td>\n",
       "      <td>180.0</td>\n",
       "      <td>2.3333</td>\n",
       "      <td>164.0</td>\n",
       "      <td>105.0</td>\n",
       "      <td>2018.0</td>\n",
       "    </tr>\n",
       "    <tr>\n",
       "      <th>68748</th>\n",
       "      <td>30.0</td>\n",
       "      <td>180.0</td>\n",
       "      <td>3.2308</td>\n",
       "      <td>105.0</td>\n",
       "      <td>105.0</td>\n",
       "      <td>2018.0</td>\n",
       "    </tr>\n",
       "    <tr>\n",
       "      <th>...</th>\n",
       "      <td>...</td>\n",
       "      <td>...</td>\n",
       "      <td>...</td>\n",
       "      <td>...</td>\n",
       "      <td>...</td>\n",
       "      <td>...</td>\n",
       "    </tr>\n",
       "    <tr>\n",
       "      <th>74190</th>\n",
       "      <td>16.0</td>\n",
       "      <td>32.0</td>\n",
       "      <td>1.1667</td>\n",
       "      <td>899.0</td>\n",
       "      <td>24.0</td>\n",
       "      <td>2016.0</td>\n",
       "    </tr>\n",
       "    <tr>\n",
       "      <th>57512</th>\n",
       "      <td>16.0</td>\n",
       "      <td>32.0</td>\n",
       "      <td>1.9796</td>\n",
       "      <td>5075.0</td>\n",
       "      <td>24.0</td>\n",
       "      <td>2013.0</td>\n",
       "    </tr>\n",
       "    <tr>\n",
       "      <th>89493</th>\n",
       "      <td>10.0</td>\n",
       "      <td>35.0</td>\n",
       "      <td>2.6875</td>\n",
       "      <td>386.0</td>\n",
       "      <td>22.5</td>\n",
       "      <td>2020.0</td>\n",
       "    </tr>\n",
       "    <tr>\n",
       "      <th>2653</th>\n",
       "      <td>10.0</td>\n",
       "      <td>35.0</td>\n",
       "      <td>1.8068</td>\n",
       "      <td>1124.0</td>\n",
       "      <td>22.5</td>\n",
       "      <td>1992.0</td>\n",
       "    </tr>\n",
       "    <tr>\n",
       "      <th>64030</th>\n",
       "      <td>10.0</td>\n",
       "      <td>35.0</td>\n",
       "      <td>NaN</td>\n",
       "      <td>240.0</td>\n",
       "      <td>22.5</td>\n",
       "      <td>2014.0</td>\n",
       "    </tr>\n",
       "  </tbody>\n",
       "</table>\n",
       "<p>1751 rows × 6 columns</p>\n",
       "</div>"
      ],
      "text/plain": [
       "       min_time  max_time  complexity   votos  avg_time    year\n",
       "81835      30.0     180.0      3.4444   386.0     105.0  2022.0\n",
       "65779      30.0     180.0      1.5000   167.0     105.0  2015.0\n",
       "78255      30.0     180.0      2.3333   218.0     105.0  2019.0\n",
       "62024      30.0     180.0      2.3333   164.0     105.0  2018.0\n",
       "68748      30.0     180.0      3.2308   105.0     105.0  2018.0\n",
       "...         ...       ...         ...     ...       ...     ...\n",
       "74190      16.0      32.0      1.1667   899.0      24.0  2016.0\n",
       "57512      16.0      32.0      1.9796  5075.0      24.0  2013.0\n",
       "89493      10.0      35.0      2.6875   386.0      22.5  2020.0\n",
       "2653       10.0      35.0      1.8068  1124.0      22.5  1992.0\n",
       "64030      10.0      35.0         NaN   240.0      22.5  2014.0\n",
       "\n",
       "[1751 rows x 6 columns]"
      ]
     },
     "execution_count": 63,
     "metadata": {},
     "output_type": "execute_result"
    }
   ],
   "source": [
    "da['avg_time'] = (da['min_time'] + da['max_time']) / 2\n",
    "da = da.sort_values(by='avg_time', ascending=False)\n",
    "da[\"year\"] = data.loc[da.index, 'year']\n",
    "año = [\"year\"]\n",
    "años = data[año]\n",
    "\n",
    "\n",
    "da = da[da['year'] >= 1980]\n",
    "da = da[da['year'] <= 2025]\n",
    "dataañ = da[año]\n",
    "da"
   ]
  },
  {
   "cell_type": "markdown",
   "id": "89df6ae6",
   "metadata": {},
   "source": [
    "**c) (0.5 pts)** Grafique la duración promedio de juegos al año entre 1980 y 2025. ¿Existe alguna tendencia? Asegúrese de colocar las unidades correspondientes en sus ejes si es necesario. Comente sus resultados."
   ]
  },
  {
   "cell_type": "code",
   "execution_count": null,
   "id": "765da813",
   "metadata": {},
   "outputs": [
    {
     "data": {
      "image/png": "[encoded data removed]",
      "text/plain": [
       "<Figure size 1000x500 with 1 Axes>"
      ]
     },
     "metadata": {},
     "output_type": "display_data"
    }
   ],
   "source": [
    "# Agrupa por año y calcula el promedio de duración\n",
    "duracion_promedio_por_año = da.groupby('year')['avg_time'].mean()\n",
    "\n",
    "plt.figure(figsize=(10,5))\n",
    "plt.plot(duracion_promedio_por_año.index, duracion_promedio_por_año.values)\n",
    "plt.title('Tiempo promedio de juegos publicados por año (1980-2025)')\n",
    "plt.xlabel('Año')\n",
    "plt.ylabel('Tiempo promedio (minutos)')\n",
    "plt.grid(True)\n",
    "plt.show()"
   ]
  },
  {
   "cell_type": "markdown",
   "id": "98fa7b41",
   "metadata": {},
   "source": [
    "Notamos que el promedio tiende a ser entre 40 y 50 minutos de juego, tambien se ve que despues del año 2006 el promedio de tiempo se estabiliza el promedio y no varia tanto como en los años anteriores a este."
   ]
  },
  {
   "cell_type": "markdown",
   "id": "a5847905",
   "metadata": {},
   "source": [
    "**d) (0.5 pts)** Nos interesa saber si los juegos de mesa recientes son más complejos que aquellos publicados antes de los 2000. BoardGameGeek permite evaluar la complejidad (o \"weight\") de un juego en una escala de 1 a 5, siendo 1 un juego \"liviano\" o fácil de entender, y 5 un juego \"pesado\" o complejo. Primero, seleccione los juegos que han sido evaluados por al menos 100 usuarios. Luego grafique la complejidad promedio de los juegos según año. Responda: ¿ha cambiado la percepción de complejidad entre juegos entre 1980 y la actualidad?"
   ]
  },
  {
   "cell_type": "code",
   "execution_count": 71,
   "id": "776553e6",
   "metadata": {},
   "outputs": [
    {
     "data": {
      "image/png": "[encoded data removed]",
      "text/plain": [
       "<Figure size 1000x500 with 1 Axes>"
      ]
     },
     "metadata": {},
     "output_type": "display_data"
    }
   ],
   "source": [
    "da[\"votos\"] = data.loc[da.index, 'num_votes']\n",
    "da = da[da['votos'] >= 100]\n",
    "#con la nueva informacion sobre la complejidad, se elimina el NaN\n",
    "da = da.dropna(subset=['complexity'])\n",
    "#saca promedio de complejidad y se grafica\n",
    "complejidad_prom = da.groupby(\"year\")['complexity'].mean()\n",
    "plt.figure(figsize=(10,5))\n",
    "plt.plot(complejidad_prom.index, complejidad_prom.values, marker='o')\n",
    "plt.title('Complejidad promedio de juegos publicados por año (1980-2025)')\n",
    "plt.xlabel('Año')\n",
    "plt.ylabel('Complejidad promedio')\n",
    "plt.grid(True)\n",
    "plt.show()"
   ]
  },
  {
   "cell_type": "markdown",
   "id": "ca1398b4",
   "metadata": {},
   "source": [
    "Si ha cambiado la percepcion, ya que se ve la variada percepcion de complejidad entre los años 80 y 2000, y despues de esa epoca se ve que mayormente se llega a una estabilidad en terminos de complejidad en los juegos de mesa, aunque en los utltimos años esta misma a ido en aumento pero no tan radicalmente como en los años previos al 2000"
   ]
  },
  {
   "cell_type": "markdown",
   "id": "9a241f39",
   "metadata": {},
   "source": [
    "### 3.4 Análisis de categorías comunes (2 puntos)\n",
    "\n",
    "Existe una gran diversidad de categorías de juegos de mesa. Ahora nos concentraremos en un grupo específico de ellas, con el fin de analizar cómo a cambiado la cantidad de juegos de estas clases desde 1980 hasta hoy.\n",
    "\n",
    "**a) (0.7 pts)** ¿Cuáles son las 5 categorías más comunes en los juegos del dataset? Muestre la cantidad de juegos que hay de cada una. Puede graficar estos valores, o bien, entregar un DataFrame con sus valores."
   ]
  },
  {
   "cell_type": "code",
   "execution_count": 95,
   "id": "13730de1",
   "metadata": {},
   "outputs": [
    {
     "ename": "KeyError",
     "evalue": "'category'",
     "output_type": "error",
     "traceback": [
      "\u001b[31m---------------------------------------------------------------------------\u001b[39m",
      "\u001b[31mKeyError\u001b[39m                                  Traceback (most recent call last)",
      "\u001b[32m~\\AppData\\Local\\Temp\\ipykernel_7452\\645732667.py\u001b[39m in \u001b[36m?\u001b[39m\u001b[34m()\u001b[39m\n\u001b[32m      4\u001b[39m categoria = pd.read_csv(a)\n\u001b[32m      5\u001b[39m \n\u001b[32m      6\u001b[39m \n\u001b[32m      7\u001b[39m categorias = data[\u001b[33m'category'\u001b[39m].str.get_dummies(sep=\u001b[33m','\u001b[39m)\n\u001b[32m----> \u001b[39m\u001b[32m8\u001b[39m categorias = categorias.merge(categoria, left_on=\u001b[33m'category'\u001b[39m, right_on=\u001b[33m'bgg_id'\u001b[39m, how=\u001b[33m'left'\u001b[39m)\n\u001b[32m      9\u001b[39m categorias\n\u001b[32m     10\u001b[39m \n\u001b[32m     11\u001b[39m categorias\n",
      "\u001b[32mc:\\Users\\gasxd\\AppData\\Local\\Programs\\Python\\Python312\\Lib\\site-packages\\pandas\\core\\frame.py\u001b[39m in \u001b[36m?\u001b[39m\u001b[34m(self, right, how, on, left_on, right_on, left_index, right_index, sort, suffixes, copy, indicator, validate)\u001b[39m\n\u001b[32m  10835\u001b[39m         validate: MergeValidate | \u001b[38;5;28;01mNone\u001b[39;00m = \u001b[38;5;28;01mNone\u001b[39;00m,\n\u001b[32m  10836\u001b[39m     ) -> DataFrame:\n\u001b[32m  10837\u001b[39m         \u001b[38;5;28;01mfrom\u001b[39;00m pandas.core.reshape.merge \u001b[38;5;28;01mimport\u001b[39;00m merge\n\u001b[32m  10838\u001b[39m \n\u001b[32m> \u001b[39m\u001b[32m10839\u001b[39m         return merge(\n\u001b[32m  10840\u001b[39m             self,\n\u001b[32m  10841\u001b[39m             right,\n\u001b[32m  10842\u001b[39m             how=how,\n",
      "\u001b[32mc:\\Users\\gasxd\\AppData\\Local\\Programs\\Python\\Python312\\Lib\\site-packages\\pandas\\core\\reshape\\merge.py\u001b[39m in \u001b[36m?\u001b[39m\u001b[34m(left, right, how, on, left_on, right_on, left_index, right_index, sort, suffixes, copy, indicator, validate)\u001b[39m\n\u001b[32m    166\u001b[39m             validate=validate,\n\u001b[32m    167\u001b[39m             copy=copy,\n\u001b[32m    168\u001b[39m         )\n\u001b[32m    169\u001b[39m     \u001b[38;5;28;01melse\u001b[39;00m:\n\u001b[32m--> \u001b[39m\u001b[32m170\u001b[39m         op = _MergeOperation(\n\u001b[32m    171\u001b[39m             left_df,\n\u001b[32m    172\u001b[39m             right_df,\n\u001b[32m    173\u001b[39m             how=how,\n",
      "\u001b[32mc:\\Users\\gasxd\\AppData\\Local\\Programs\\Python\\Python312\\Lib\\site-packages\\pandas\\core\\reshape\\merge.py\u001b[39m in \u001b[36m?\u001b[39m\u001b[34m(self, left, right, how, on, left_on, right_on, left_index, right_index, sort, suffixes, indicator, validate)\u001b[39m\n\u001b[32m    790\u001b[39m             self.right_join_keys,\n\u001b[32m    791\u001b[39m             self.join_names,\n\u001b[32m    792\u001b[39m             left_drop,\n\u001b[32m    793\u001b[39m             right_drop,\n\u001b[32m--> \u001b[39m\u001b[32m794\u001b[39m         ) = self._get_merge_keys()\n\u001b[32m    795\u001b[39m \n\u001b[32m    796\u001b[39m         \u001b[38;5;28;01mif\u001b[39;00m left_drop:\n\u001b[32m    797\u001b[39m             self.left = self.left._drop_labels_or_levels(left_drop)\n",
      "\u001b[32mc:\\Users\\gasxd\\AppData\\Local\\Programs\\Python\\Python312\\Lib\\site-packages\\pandas\\core\\reshape\\merge.py\u001b[39m in \u001b[36m?\u001b[39m\u001b[34m(self)\u001b[39m\n\u001b[32m   1307\u001b[39m                     \u001b[38;5;28;01mif\u001b[39;00m lk \u001b[38;5;28;01mis\u001b[39;00m \u001b[38;5;28;01mnot\u001b[39;00m \u001b[38;5;28;01mNone\u001b[39;00m:\n\u001b[32m   1308\u001b[39m                         \u001b[38;5;66;03m# Then we're either Hashable or a wrong-length arraylike,\u001b[39;00m\n\u001b[32m   1309\u001b[39m                         \u001b[38;5;66;03m#  the latter of which will raise\u001b[39;00m\n\u001b[32m   1310\u001b[39m                         lk = cast(Hashable, lk)\n\u001b[32m-> \u001b[39m\u001b[32m1311\u001b[39m                         left_keys.append(left._get_label_or_level_values(lk))\n\u001b[32m   1312\u001b[39m                         join_names.append(lk)\n\u001b[32m   1313\u001b[39m                     \u001b[38;5;28;01melse\u001b[39;00m:\n\u001b[32m   1314\u001b[39m                         \u001b[38;5;66;03m# work-around for merge_asof(left_index=True)\u001b[39;00m\n",
      "\u001b[32mc:\\Users\\gasxd\\AppData\\Local\\Programs\\Python\\Python312\\Lib\\site-packages\\pandas\\core\\generic.py\u001b[39m in \u001b[36m?\u001b[39m\u001b[34m(self, key, axis)\u001b[39m\n\u001b[32m   1907\u001b[39m             values = self.xs(key, axis=other_axes[\u001b[32m0\u001b[39m])._values\n\u001b[32m   1908\u001b[39m         \u001b[38;5;28;01melif\u001b[39;00m self._is_level_reference(key, axis=axis):\n\u001b[32m   1909\u001b[39m             values = self.axes[axis].get_level_values(key)._values\n\u001b[32m   1910\u001b[39m         \u001b[38;5;28;01melse\u001b[39;00m:\n\u001b[32m-> \u001b[39m\u001b[32m1911\u001b[39m             \u001b[38;5;28;01mraise\u001b[39;00m KeyError(key)\n\u001b[32m   1912\u001b[39m \n\u001b[32m   1913\u001b[39m         \u001b[38;5;66;03m# Check for duplicates\u001b[39;00m\n\u001b[32m   1914\u001b[39m         \u001b[38;5;28;01mif\u001b[39;00m values.ndim > \u001b[32m1\u001b[39m:\n",
      "\u001b[31mKeyError\u001b[39m: 'category'"
     ]
    }
   ],
   "source": [
    "p = os.path.join(\"archive\", \"bgg_GameItem.csv\")\n",
    "a = os.path.join(\"archive\", \"bgg_Category.csv\")\n",
    "data = pd.read_csv(p)\n",
    "categoria = pd.read_csv(a)\n",
    "\n",
    "\n",
    "categorias = data['category'].str.get_dummies(sep=',')\n",
    "categorias = categorias.merge(categoria, left_on='category', right_on='bgg_id', how='left')\n",
    "categorias\n",
    "\n",
    "categorias"
   ]
  },
  {
   "cell_type": "markdown",
   "id": "d9aa153e",
   "metadata": {},
   "source": [
    "**b) (0.3 pts)** Para cada una de estas 5 categorías, cree un DataFrame que contenga la cantidad de juegos en el dataset según año. Luego junte estos DataFrames en uno solo con los atributos de \"Año\", \"Categoría\" y \"Cantidad\"."
   ]
  },
  {
   "cell_type": "code",
   "execution_count": null,
   "id": "325d450d",
   "metadata": {},
   "outputs": [],
   "source": []
  },
  {
   "cell_type": "markdown",
   "id": "d299aa4c",
   "metadata": {},
   "source": [
    "**c) (1 pto)** Grafique, en un solo gráfico y con distintos colores, la cantidad de juegos por año según categoría. Preocúpese de ponerle etiquetas al gráfico para identificar cada categoría y una leyenda donde se muestre cada una. Comente: ¿ha habido un cambio entre los juegos más comunes en los años 80 y hoy?\n"
   ]
  },
  {
   "cell_type": "code",
   "execution_count": null,
   "id": "7ad14cda",
   "metadata": {},
   "outputs": [],
   "source": []
  },
  {
   "cell_type": "markdown",
   "id": "9db1ea34-4030-4b3a-8853-4ef75f894298",
   "metadata": {},
   "source": [
    "### 3.5 Análisis Crítico (Bono +0.5 puntos)\n",
    "\n",
    "¿Qué limitaciones o problemas encontraste en los datos?"
   ]
  },
  {
   "cell_type": "markdown",
   "id": "2887f4e1",
   "metadata": {},
   "source": [
    "El poco orden de los juegos en el que se entregan los juegos (podria estar al menos por año de publicacion o definido por alguna categoria) y la claridad con la que se muestran, por ejemplo, en la tabla de datos, dificultan la comprensión de la información. Es importante presentar los datos de manera más estructurada y visualmente accesible para facilitar su análisis y comparación."
   ]
  }
 ],
 "metadata": {
  "kernelspec": {
   "display_name": "Python 3",
   "language": "python",
   "name": "python3"
  },
  "language_info": {
   "codemirror_mode": {
    "name": "ipython",
    "version": 3
   },
   "file_extension": ".py",
   "mimetype": "text/x-python",
   "name": "python",
   "nbconvert_exporter": "python",
   "pygments_lexer": "ipython3",
   "version": "3.12.9"
  }
 },
 "nbformat": 4,
 "nbformat_minor": 5
}
